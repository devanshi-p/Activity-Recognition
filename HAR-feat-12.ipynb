{
 "cells": [
  {
   "cell_type": "code",
   "execution_count": 1,
   "metadata": {
    "collapsed": true
   },
   "outputs": [],
   "source": [
    "import pandas as pd\n",
    "import numpy as np\n",
    "import os\n",
    "from sklearn.tree import DecisionTreeClassifier\n",
    "from sklearn import preprocessing\n",
    "from sklearn.model_selection import cross_val_score\n",
    "import math\n",
    "from scipy.stats import iqr\n",
    "from numpy import linalg\n",
    "import matplotlib.pyplot as plt\n",
    "from sklearn.metrics import accuracy_score\n",
    "from scipy import stats\n",
    "from sklearn.ensemble import RandomForestClassifier\n",
    "from sklearn.svm import SVC\n",
    "from sklearn.neighbors import KNeighborsClassifier\n",
    "from sklearn.naive_bayes import GaussianNB\n",
    "from sklearn.linear_model import LogisticRegression\n",
    "from sklearn.neural_network import MLPClassifier\n",
    "import pickle"
   ]
  },
  {
   "cell_type": "code",
   "execution_count": 2,
   "metadata": {
    "collapsed": true
   },
   "outputs": [],
   "source": [
    "## Features\n",
    "\n",
    "def mean(x):\n",
    "    \"\"\"Calculates mean\"\"\"\n",
    "    mean_x = np.mean(x)\n",
    "    return mean_x\n",
    "\n",
    "def std_dev(x):\n",
    "    \"\"\"Calculates standard deviation\"\"\"\n",
    "    std_x = np.std(x)\n",
    "    return std_x\n",
    "    \n",
    "def mad(x):\n",
    "    \"\"\"Calculates median absolute deviation\"\"\"\n",
    "    mad_x = np.median(np.abs(x - np.median(x)))\n",
    "    return mad_x\n",
    "\n",
    "def minimum(x):\n",
    "    \"\"\"Calculates minimum\"\"\"\n",
    "    return min(x)\n",
    "\n",
    "def maximum(x):\n",
    "    \"\"\"Calculates maximum\"\"\"\n",
    "    return max(x)\n",
    "\n",
    "def energy_measure(x):\n",
    "    \"\"\"Calculates energy measures\"\"\"\n",
    "    em_x = np.mean(np.square(x))\n",
    "    return em_x\n",
    "\n",
    "def inter_quartile_range(x):\n",
    "    \"\"\"Calculates inter-quartile range\"\"\"\n",
    "    iqr_x = np.subtract(*np.percentile(x, [75, 25]))\n",
    "    return iqr_x\n",
    "\n",
    "def sma(x,y,z):\n",
    "    \"\"\"Calculates signal magnitude area\"\"\"   \n",
    "    abs_x = np.absolute(x)\n",
    "    abs_y = np.absolute(y)\n",
    "    abs_z = np.absolute(z)\n",
    "    return np.mean(abs_x+abs_y+abs_z)\n",
    "\n",
    "def skewness(x):\n",
    "    \"\"\"Calculates skewness\"\"\"\n",
    "    skew_x=stats.skew(x)\n",
    "    return skew_x\n",
    "\n",
    "def kurt(x):\n",
    "    \"\"\"Calculates kurtosis\"\"\"\n",
    "    kurt_x = stats.kurtosis(x,fisher=False)\n",
    "    return kurt_x\n",
    "    \n",
    "def max_index(x):\n",
    "    \"\"\"Calculates index of maximum\"\"\"\n",
    "    idx_x = np.argmax(x)\n",
    "    return idx_x\n",
    "\n",
    "def butter_bandpass(lowcut, highcut, fs, order=5):\n",
    "    nyq = 0.5 * fs\n",
    "    low = lowcut / nyq\n",
    "    high = highcut / nyq\n",
    "    b, a = butter(order, [low, high], btype='band')\n",
    "    return b, a\n",
    "\n",
    "def butter_bandpass_filter(data, lowcut, highcut, fs, order=5):\n",
    "    b, a = butter_bandpass(lowcut, highcut, fs, order=order)\n",
    "    y = lfilter(b, a, data)\n",
    "    return y"
   ]
  },
  {
   "cell_type": "code",
   "execution_count": null,
   "metadata": {
    "collapsed": true
   },
   "outputs": [],
   "source": []
  },
  {
   "cell_type": "code",
   "execution_count": 3,
   "metadata": {
    "collapsed": true
   },
   "outputs": [],
   "source": [
    "macc_cols = ['mad_macc', 'min_macc', 'max_macc', 'em_macc', 'sma_macc', 'label']\n",
    "\n",
    "def process_mag_acc(input_df, columns, output_df):\n",
    "    mag = np.linalg.norm(input_df.iloc[:,1:4], axis = 1)\n",
    "    input_df[6] = mag.tolist()\n",
    "    \n",
    "    i = 0\n",
    "    while i < len(input_df[0]):\n",
    "        max_window = input_df[0][i] + 10000\n",
    "        min_window = input_df[0][i]\n",
    "        if i != 0:                                  #handling overlap\n",
    "            min_window -= 5000\n",
    "            max_window -= 5000\n",
    "            i -= int(count/2)\n",
    "        x = [input_df[6][i]]\n",
    "        l = input_df[5][i]\n",
    "        \n",
    "        count = 0\n",
    "        while min_window < max_window:\n",
    "            i += 1\n",
    "            count += 1\n",
    "            try:\n",
    "                label = input_df[5][i]\n",
    "                if label=='null' or label is None:\n",
    "                    continue\n",
    "                x.append(input_df[6][i])\n",
    "                min_window = input_df[0][i]\n",
    "            except KeyError:\n",
    "                break\n",
    "        \n",
    "        \n",
    "        mad_macc = mad(x)\n",
    "        min_macc = minimum(x)\n",
    "        max_macc = maximum(x)\n",
    "        em_macc = energy_measure(x)\n",
    "        sma_macc = np.mean(np.absolute(x))  \n",
    "        \n",
    "        macc_data = [mad_macc,min_macc, max_macc, em_macc, sma_macc, l]\n",
    "        output_df = output_df.append(pd.Series(macc_data, index=columns), ignore_index=True)\n",
    "\n",
    "    return output_df"
   ]
  },
  {
   "cell_type": "code",
   "execution_count": 4,
   "metadata": {
    "collapsed": true
   },
   "outputs": [],
   "source": [
    "maccj_cols = ['mad_macc_jerk', 'min_macc_jerk', 'iqr_macc_jerk', 'sma_macc_jerk']\n",
    "def process_mag_acc_jerk(input_df, columns, output_df):\n",
    "    mag = np.linalg.norm(input_df.iloc[:,1:4], axis = 1)\n",
    "    input_df[6] = mag.tolist()\n",
    "    \n",
    "    i = 0\n",
    "    while i < len(input_df[0]):\n",
    "        max_window = input_df[0][i] + 10000\n",
    "        min_window = input_df[0][i]\n",
    "        if i != 0:                                  #handling overlap\n",
    "            min_window -= 5000\n",
    "            max_window -= 5000\n",
    "            i -= int(count/2)\n",
    "        x = [input_df[6][i]]\n",
    "        l = input_df[5][i]\n",
    "        \n",
    "        count = 0\n",
    "        while min_window < max_window:\n",
    "            i += 1\n",
    "            count += 1\n",
    "            try:\n",
    "                label = input_df[5][i]\n",
    "                if label=='null' or label is None:\n",
    "                    continue\n",
    "                x.append(input_df[6][i])\n",
    "                min_window = input_df[0][i]\n",
    "            except KeyError:\n",
    "                break\n",
    "        mad_macc_jerk = mad(x)\n",
    "        min_macc_jerk = minimum(x)\n",
    "        iqr_macc_jerk = inter_quartile_range(x)\n",
    "        sma_macc_jerk = np.mean(np.absolute(x))\n",
    "        \n",
    "        maccj_data = [mad_macc_jerk, min_macc_jerk, iqr_macc_jerk, sma_macc_jerk]\n",
    "        output_df = output_df.append(pd.Series(maccj_data, index=columns), ignore_index=True)\n",
    "\n",
    "    return output_df"
   ]
  },
  {
   "cell_type": "code",
   "execution_count": null,
   "metadata": {
    "collapsed": true
   },
   "outputs": [],
   "source": []
  },
  {
   "cell_type": "code",
   "execution_count": 5,
   "metadata": {
    "collapsed": true
   },
   "outputs": [],
   "source": [
    "facc_jmag_cols = ['std_mfacc_jerk', 'mad_mfacc_jerk', 'iqr_mfacc_jerk']\n",
    "\n",
    "def process_faccj_mag(input_df, columns, output_df):\n",
    "    mag = np.linalg.norm(input_df.iloc[:,1:4], axis = 1)\n",
    "    input_df[6] = mag.tolist()\n",
    "    i = 0\n",
    "\n",
    "    while i < len(input_df[0]):\n",
    "        max_window = input_df[0][i] + 10000\n",
    "        min_window = input_df[0][i]\n",
    "        if i != 0:                                  #handling overlap\n",
    "            min_window -= 5000\n",
    "            max_window -= 5000\n",
    "            i -= int(count/2)\n",
    "        x = [input_df[6][i]]\n",
    "\n",
    "        count = 0\n",
    "        while min_window < max_window:\n",
    "            i += 1\n",
    "            count += 1\n",
    "            try:\n",
    "                label = input_df[5][i]\n",
    "                if label=='null' or label is None:\n",
    "                    continue\n",
    "                x.append(input_df[6][i])\n",
    "                min_window = input_df[0][i]\n",
    "            except KeyError:\n",
    "                break\n",
    "                \n",
    "        label = (input_df[5][1], )\n",
    "        if label == 'null':\n",
    "            print('--------null')\n",
    "            return\n",
    "        \n",
    "        std_acc = std_dev(x)\n",
    "        iqr_acc = inter_quartile_range(x)\n",
    "        mad_acc = mad(x)\n",
    "\n",
    "        acc_data = [std_acc, mad_acc, iqr_acc]\n",
    "        output_df = output_df.append(pd.Series(acc_data, index=columns), ignore_index=True)\n",
    "\n",
    "    return output_df"
   ]
  },
  {
   "cell_type": "code",
   "execution_count": 6,
   "metadata": {
    "collapsed": true
   },
   "outputs": [],
   "source": [
    "def hist_activities(df):\n",
    "    df['label'].value_counts().plot(kind='bar', title='Training examples by activity type')\n",
    "    plt.show()\n",
    "    \n",
    "def plot_activity(activity, df):\n",
    "    data = df[df.iloc[:, 5] == activity][[1, 2, 3]][:2000]\n",
    "    axis = data.plot(subplots=True, figsize=(16, 12), \n",
    "                     title=activity)\n",
    "    for ax in axis:\n",
    "        ax.legend(loc='lower left', bbox_to_anchor=(1.0, 0.5))\n",
    "        \n",
    "def plot_act_signals(df):\n",
    "    plot_activity(\"sitting\", df)\n",
    "    plt.ylabel('sitting')\n",
    "    plt.show()\n",
    "    plot_activity(\"walking\", df)\n",
    "    plt.ylabel('walking')\n",
    "    plt.show()\n",
    "    plot_activity(\"standing\", df)\n",
    "    plt.ylabel('standing')\n",
    "    plt.show()\n",
    "    plot_activity(\"laying_down\", df)\n",
    "    plt.ylabel('laying_down')\n",
    "    plt.show()"
   ]
  },
  {
   "cell_type": "code",
   "execution_count": 7,
   "metadata": {
    "collapsed": true
   },
   "outputs": [],
   "source": [
    "def calc_jerk(acc, ts):\n",
    "    jk = [0]* len(acc)\n",
    "    for i in range(1,len(acc)):\n",
    "        jk[i-1] = 1000*(acc[i] - acc[i-1])/(ts[i] - ts[i-1])\n",
    "    return jk\n",
    "\n",
    "def fmagnitude(num):\n",
    "    return math.sqrt(num.real**2 + num.imag**2)"
   ]
  },
  {
   "cell_type": "code",
   "execution_count": 8,
   "metadata": {
    "collapsed": true
   },
   "outputs": [],
   "source": [
    "def get_session_dirs(path):\n",
    "    path = path\n",
    "    dirs = []\n",
    "    dir_list = [x[0] for x in os.walk(path)]\n",
    "    last_dirs = [\"1_android.sensor.accelerometer.data.csv.gz\",\"4_android.sensor.gyroscope.data.csv.gz\"]\n",
    "    dirs = []\n",
    "    for each_dir in dir_list[2:]:\n",
    "\n",
    "        if \"data\" in each_dir:\n",
    "            dirs.append(each_dir)\n",
    "\n",
    "    dirs.sort(key=lambda x:x[-22:])\n",
    "    return dirs"
   ]
  },
  {
   "cell_type": "code",
   "execution_count": 9,
   "metadata": {
    "collapsed": true
   },
   "outputs": [],
   "source": [
    "def get_jerk(df):\n",
    "    df[1] = calc_jerk(df[1],df[0])\n",
    "    df[2] = calc_jerk(df[2],df[0])\n",
    "    df[3] = calc_jerk(df[3],df[0])\n",
    "    return df\n",
    "\n",
    "def get_fft(df):\n",
    "    df[1] = np.fft.fft(df[1])\n",
    "    df[2] = np.fft.fft(df[2])\n",
    "    df[3] = np.fft.fft(df[3])\n",
    "    df[1] = [fmagnitude(j) for j in df[1]]\n",
    "    df[2] = [fmagnitude(j) for j in df[2]]\n",
    "    df[3] = [fmagnitude(j) for j in df[3]]\n",
    "    return df\n",
    "\n",
    "def five_point_smoothing(df):\n",
    "    m=np.array(df[1])\n",
    "    m_smooth = np.zeros(len(m))\n",
    "    m_smooth = m;\n",
    "    for i ,val in enumerate(m_smooth[2 : (len(m_smooth) -2)]):\n",
    "        m_smooth[i] = (m_smooth[i-2] + m_smooth[i-1] + m_smooth[i] + m_smooth[i+1] + m_smooth[i+2])/5\n",
    "    df[1] = m_smooth\n",
    "        \n",
    "    m=np.array(df[2])\n",
    "    m_smooth = np.zeros(len(m))\n",
    "    m_smooth = m;\n",
    "    for i ,val in enumerate(m_smooth[2 : (len(m_smooth) -2)]):\n",
    "        m_smooth[i] = (m_smooth[i-2] + m_smooth[i-1] + m_smooth[i] + m_smooth[i+1] + m_smooth[i+2])/5\n",
    "    df[2] = m_smooth\n",
    "    \n",
    "    m = np.array(df[3])\n",
    "    m_smooth = np.zeros(len(m))\n",
    "    m_smooth = m;\n",
    "    for i ,val in enumerate(m_smooth[2 : (len(m_smooth) -2)]):\n",
    "        m_smooth[i] = (m_smooth[i-2] + m_smooth[i-1] + m_smooth[i] + m_smooth[i+1] + m_smooth[i+2])/5\n",
    "    df[3] = m_smooth\n",
    "    \n",
    "    return df\n",
    "\n",
    "def clean_dataset(df):\n",
    "    assert isinstance(df, pd.DataFrame), \"df needs to be a pd.DataFrame\"\n",
    "    df.dropna(inplace=True)\n",
    "    indices_to_keep = ~df.isin([np.nan, np.inf, -np.inf]).any(1)\n",
    "    return df[indices_to_keep]"
   ]
  },
  {
   "cell_type": "code",
   "execution_count": 10,
   "metadata": {
    "collapsed": true
   },
   "outputs": [],
   "source": [
    "def process_csv_data(path):\n",
    "    dirs = get_session_dirs(path)\n",
    "    acc_mag = pd.DataFrame(columns = macc_cols)\n",
    "    acc_jerk_mag = pd.DataFrame(columns = maccj_cols)\n",
    "    facc_jerk_mag = pd.DataFrame(columns = facc_jmag_cols)\n",
    "    \n",
    "    acc_gy_df = pd.DataFrame()\n",
    "\n",
    "    for i in dirs: \n",
    "        full_path_acc = os.path.normpath(i + \"/\" + \"1_android.sensor.accelerometer.data.csv.gz\")\n",
    "        \n",
    "        print(\"processing acceleration: \" + full_path_acc)\n",
    "        in_df_ac = pd.read_csv(full_path_acc, compression='gzip', sep=',', header=None)\n",
    "\n",
    "        #cropping\n",
    "        if in_df_ac.shape[0] > 3000:\n",
    "    \n",
    "            in_df_ac = in_df_ac.drop(list(range(1000)), axis = 0)\n",
    "            in_df_ac.index = range(in_df_ac.shape[0])\n",
    "            in_df_ac = in_df_ac.drop(list(range(in_df_ac.shape[0]-1000, in_df_ac.shape[0])), axis = 0)\n",
    "            in_df_ac.index = range(in_df_ac.shape[0])\n",
    "            \n",
    "        #smoothing\n",
    "        in_df_ac = five_point_smoothing(in_df_ac)\n",
    "    \n",
    "        #jerk\n",
    "        in_df_ac_jerk = in_df_ac.copy()\n",
    "        in_df_ac_jerk = get_jerk(in_df_ac_jerk)\n",
    "        \n",
    "        #fft\n",
    "        in_df_fac = in_df_ac.copy()\n",
    "        in_df_fac = get_fft(in_df_fac)\n",
    "        \n",
    "        #fft_jerk\n",
    "        in_df_fac_jerk = in_df_ac_jerk.copy()\n",
    "        in_df_fac_jerk = get_fft(in_df_fac_jerk)\n",
    "\n",
    "        acc_mag = process_mag_acc(in_df_ac, macc_cols, acc_mag)\n",
    "        acc_jerk_mag = process_mag_acc_jerk(in_df_ac_jerk, maccj_cols, acc_jerk_mag)\n",
    "        facc_jerk_mag = process_faccj_mag(in_df_fac_jerk, facc_jmag_cols, facc_jerk_mag)\n",
    "        acc_gy_df = pd.concat([acc_jerk_mag, facc_jerk_mag, acc_mag], axis=1)\n",
    "\n",
    "    print(acc_gy_df.shape)\n",
    "    return acc_gy_df"
   ]
  },
  {
   "cell_type": "code",
   "execution_count": 11,
   "metadata": {
    "scrolled": true
   },
   "outputs": [
    {
     "name": "stdout",
     "output_type": "stream",
     "text": [
      "processing acceleration: Sessions3-full\\14442D57F7E1B88_Tue_Mar_06_18-33_2018_PST\\data\\1_android.sensor.accelerometer.data.csv.gz\n",
      "processing acceleration: Sessions3-full\\14442D57F7E1B88_Wed_Mar_07_11-53_2018_PST\\data\\1_android.sensor.accelerometer.data.csv.gz\n",
      "processing acceleration: Sessions3-full\\14442D57F7E1B88_Wed_Mar_07_13-36_2018_PST\\data\\1_android.sensor.accelerometer.data.csv.gz\n",
      "processing acceleration: Sessions3-full\\14442D57F7E1B88_Wed_Mar_07_13-42_2018_PST\\data\\1_android.sensor.accelerometer.data.csv.gz\n",
      "processing acceleration: Sessions3-full\\14442D57F7E1B88_Wed_Mar_07_13-44_2018_PST\\data\\1_android.sensor.accelerometer.data.csv.gz\n",
      "processing acceleration: Sessions3-full\\14442D57F7E1B88_Wed_Mar_07_13-57_2018_PST\\data\\1_android.sensor.accelerometer.data.csv.gz\n",
      "processing acceleration: Sessions3-full\\14442D57F7E1B88_Thu_Feb_08_00-16_2018_PST\\data\\1_android.sensor.accelerometer.data.csv.gz\n",
      "processing acceleration: Sessions3-full\\14442D57F7E1B88_Thu_Feb_08_00-18_2018_PST\\data\\1_android.sensor.accelerometer.data.csv.gz\n",
      "processing acceleration: Sessions3-full\\14442D57F7E1B88_Thu_Feb_08_00-25_2018_PST\\data\\1_android.sensor.accelerometer.data.csv.gz\n",
      "processing acceleration: Sessions3-full\\14442D57F7E1B88_Thu_Feb_08_00-31_2018_PST\\data\\1_android.sensor.accelerometer.data.csv.gz\n",
      "processing acceleration: Sessions3-full\\14442D57F7E1B88_Thu_Feb_08_00-35_2018_PST\\data\\1_android.sensor.accelerometer.data.csv.gz\n",
      "processing acceleration: Sessions3-full\\14442D57F7E1B88_Thu_Feb_08_00-38_2018_PST\\data\\1_android.sensor.accelerometer.data.csv.gz\n",
      "processing acceleration: Sessions3-full\\14442D57F7E1B88_Thu_Feb_08_00-39_2018_PST\\data\\1_android.sensor.accelerometer.data.csv.gz\n",
      "processing acceleration: Sessions3-full\\14442D57F7E1B88_Thu_Feb_08_07-43_2018_PST\\data\\1_android.sensor.accelerometer.data.csv.gz\n",
      "processing acceleration: Sessions3-full\\14442D57F7E1B88_Thu_Feb_08_07-54_2018_PST\\data\\1_android.sensor.accelerometer.data.csv.gz\n",
      "processing acceleration: Sessions3-full\\14442D57F7E1B88_Thu_Feb_08_08-13_2018_PST\\data\\1_android.sensor.accelerometer.data.csv.gz\n",
      "processing acceleration: Sessions3-full\\14442D57F7E1B88_Thu_Feb_08_14-46_2018_PST\\data\\1_android.sensor.accelerometer.data.csv.gz\n",
      "processing acceleration: Sessions3-full\\14442D57F7E1B88_Thu_Feb_08_19-19_2018_PST\\data\\1_android.sensor.accelerometer.data.csv.gz\n",
      "processing acceleration: Sessions3-full\\14442D57F7E1B88_Fri_Feb_09_09-37_2018_PST\\data\\1_android.sensor.accelerometer.data.csv.gz\n",
      "processing acceleration: Sessions3-full\\14442D57F7E1B88_Fri_Feb_09_09-41_2018_PST\\data\\1_android.sensor.accelerometer.data.csv.gz\n",
      "processing acceleration: Sessions3-full\\14442D57F7E1B88_Fri_Feb_09_09-47_2018_PST\\data\\1_android.sensor.accelerometer.data.csv.gz\n",
      "processing acceleration: Sessions3-full\\14442D57F7E1B88_Fri_Feb_09_09-54_2018_PST\\data\\1_android.sensor.accelerometer.data.csv.gz\n",
      "processing acceleration: Sessions3-full\\14442D57F7E1B88_Fri_Feb_09_11-54_2018_PST\\data\\1_android.sensor.accelerometer.data.csv.gz\n",
      "processing acceleration: Sessions3-full\\14442D57F7E1B88_Sun_Feb_11_18-31_2018_PST\\data\\1_android.sensor.accelerometer.data.csv.gz\n",
      "processing acceleration: Sessions3-full\\14442D57F7E1B88_Mon_Feb_12_01-46_2018_PST\\data\\1_android.sensor.accelerometer.data.csv.gz\n",
      "processing acceleration: Sessions3-full\\14442D57F7E1B88_Mon_Feb_12_22-04_2018_PST\\data\\1_android.sensor.accelerometer.data.csv.gz\n",
      "processing acceleration: Sessions3-full\\14442D57F7E1B88_Tue_Feb_13_00-40_2018_PST\\data\\1_android.sensor.accelerometer.data.csv.gz\n",
      "processing acceleration: Sessions3-full\\14442D57F7E1B88_Tue_Feb_13_17-53_2018_PST\\data\\1_android.sensor.accelerometer.data.csv.gz\n",
      "processing acceleration: Sessions3-full\\14442D57F7E1B88_Tue_Feb_13_18-01_2018_PST\\data\\1_android.sensor.accelerometer.data.csv.gz\n",
      "processing acceleration: Sessions3-full\\14442D57F7E1B88_Tue_Feb_13_18-09_2018_PST\\data\\1_android.sensor.accelerometer.data.csv.gz\n",
      "processing acceleration: Sessions3-full\\14442D57F7E1B88_Fri_Feb_16_14-11_2018_PST\\data\\1_android.sensor.accelerometer.data.csv.gz\n",
      "processing acceleration: Sessions3-full\\14442D57F7E1B88_Fri_Feb_16_14-21_2018_PST\\data\\1_android.sensor.accelerometer.data.csv.gz\n",
      "processing acceleration: Sessions3-full\\14442D57F7E1B88_Fri_Feb_16_14-33_2018_PST\\data\\1_android.sensor.accelerometer.data.csv.gz\n",
      "processing acceleration: Sessions3-full\\14442D57F7E1B88_Fri_Feb_16_17-01_2018_PST\\data\\1_android.sensor.accelerometer.data.csv.gz\n",
      "processing acceleration: Sessions3-full\\14442D57F7E1B88_Fri_Feb_16_18-24_2018_PST\\data\\1_android.sensor.accelerometer.data.csv.gz\n",
      "processing acceleration: Sessions3-full\\14442D57F7E1B88_Mon_Feb_26_13-54_2018_PST\\data\\1_android.sensor.accelerometer.data.csv.gz\n",
      "processing acceleration: Sessions3-full\\14442D57F7E1B88_Mon_Feb_26_15-18_2018_PST\\data\\1_android.sensor.accelerometer.data.csv.gz\n",
      "processing acceleration: Sessions3-full\\14442D57F7E1B88_Mon_Feb_26_16-04_2018_PST\\data\\1_android.sensor.accelerometer.data.csv.gz\n",
      "processing acceleration: Sessions3-full\\14442D57F7E1B88_Mon_Feb_26_18-01_2018_PST\\data\\1_android.sensor.accelerometer.data.csv.gz\n",
      "processing acceleration: Sessions3-full\\14442D57F7E1B88_Mon_Feb_26_18-03_2018_PST\\data\\1_android.sensor.accelerometer.data.csv.gz\n",
      "(3959, 13)\n"
     ]
    }
   ],
   "source": [
    "training_set_df = process_csv_data(\"Sessions/\")"
   ]
  },
  {
   "cell_type": "code",
   "execution_count": 12,
   "metadata": {},
   "outputs": [
    {
     "data": {
      "image/png": "[encoded data removed]",
      "text/plain": [
       "<matplotlib.figure.Figure at 0xd5dbf60>"
      ]
     },
     "metadata": {},
     "output_type": "display_data"
    },
    {
     "data": {
      "text/html": [
       "<div>\n",
       "<style>\n",
       "    .dataframe thead tr:only-child th {\n",
       "        text-align: right;\n",
       "    }\n",
       "\n",
       "    .dataframe thead th {\n",
       "        text-align: left;\n",
       "    }\n",
       "\n",
       "    .dataframe tbody tr th {\n",
       "        vertical-align: top;\n",
       "    }\n",
       "</style>\n",
       "<table border=\"1\" class=\"dataframe\">\n",
       "  <thead>\n",
       "    <tr style=\"text-align: right;\">\n",
       "      <th></th>\n",
       "      <th>mad_macc_jerk</th>\n",
       "      <th>min_macc_jerk</th>\n",
       "      <th>iqr_macc_jerk</th>\n",
       "      <th>sma_macc_jerk</th>\n",
       "      <th>std_mfacc_jerk</th>\n",
       "      <th>mad_mfacc_jerk</th>\n",
       "      <th>iqr_mfacc_jerk</th>\n",
       "      <th>mad_macc</th>\n",
       "      <th>min_macc</th>\n",
       "      <th>max_macc</th>\n",
       "      <th>em_macc</th>\n",
       "      <th>sma_macc</th>\n",
       "      <th>label</th>\n",
       "    </tr>\n",
       "  </thead>\n",
       "  <tbody>\n",
       "    <tr>\n",
       "      <th>853</th>\n",
       "      <td>0.810269</td>\n",
       "      <td>0.178663</td>\n",
       "      <td>1.676020</td>\n",
       "      <td>2.519056</td>\n",
       "      <td>663.979647</td>\n",
       "      <td>478.818374</td>\n",
       "      <td>956.446390</td>\n",
       "      <td>0.017800</td>\n",
       "      <td>9.126425</td>\n",
       "      <td>9.317504</td>\n",
       "      <td>85.550563</td>\n",
       "      <td>9.249317</td>\n",
       "      <td>laying_down</td>\n",
       "    </tr>\n",
       "    <tr>\n",
       "      <th>2470</th>\n",
       "      <td>0.667521</td>\n",
       "      <td>0.170738</td>\n",
       "      <td>1.349984</td>\n",
       "      <td>2.388494</td>\n",
       "      <td>25947.808736</td>\n",
       "      <td>18686.411029</td>\n",
       "      <td>37605.332780</td>\n",
       "      <td>0.009800</td>\n",
       "      <td>9.624984</td>\n",
       "      <td>9.717329</td>\n",
       "      <td>93.458765</td>\n",
       "      <td>9.667395</td>\n",
       "      <td>laying_down</td>\n",
       "    </tr>\n",
       "    <tr>\n",
       "      <th>506</th>\n",
       "      <td>16.847106</td>\n",
       "      <td>1.897452</td>\n",
       "      <td>37.165755</td>\n",
       "      <td>46.559281</td>\n",
       "      <td>4569.266788</td>\n",
       "      <td>3076.435502</td>\n",
       "      <td>6166.646767</td>\n",
       "      <td>1.404407</td>\n",
       "      <td>6.839887</td>\n",
       "      <td>18.038666</td>\n",
       "      <td>121.995489</td>\n",
       "      <td>10.832138</td>\n",
       "      <td>walking</td>\n",
       "    </tr>\n",
       "    <tr>\n",
       "      <th>2255</th>\n",
       "      <td>24.443641</td>\n",
       "      <td>0.313032</td>\n",
       "      <td>59.128621</td>\n",
       "      <td>51.657892</td>\n",
       "      <td>5081.327830</td>\n",
       "      <td>3347.761312</td>\n",
       "      <td>6752.391173</td>\n",
       "      <td>0.275047</td>\n",
       "      <td>1.642862</td>\n",
       "      <td>15.477629</td>\n",
       "      <td>96.556101</td>\n",
       "      <td>9.758634</td>\n",
       "      <td>sitting</td>\n",
       "    </tr>\n",
       "    <tr>\n",
       "      <th>2829</th>\n",
       "      <td>3.256233</td>\n",
       "      <td>0.353142</td>\n",
       "      <td>6.977196</td>\n",
       "      <td>8.184784</td>\n",
       "      <td>1301.559871</td>\n",
       "      <td>864.966609</td>\n",
       "      <td>1777.955788</td>\n",
       "      <td>0.054472</td>\n",
       "      <td>9.627217</td>\n",
       "      <td>10.603044</td>\n",
       "      <td>101.129052</td>\n",
       "      <td>10.055586</td>\n",
       "      <td>sitting</td>\n",
       "    </tr>\n",
       "  </tbody>\n",
       "</table>\n",
       "</div>"
      ],
      "text/plain": [
       "      mad_macc_jerk  min_macc_jerk  iqr_macc_jerk  sma_macc_jerk  \\\n",
       "853        0.810269       0.178663       1.676020       2.519056   \n",
       "2470       0.667521       0.170738       1.349984       2.388494   \n",
       "506       16.847106       1.897452      37.165755      46.559281   \n",
       "2255      24.443641       0.313032      59.128621      51.657892   \n",
       "2829       3.256233       0.353142       6.977196       8.184784   \n",
       "\n",
       "      std_mfacc_jerk  mad_mfacc_jerk  iqr_mfacc_jerk  mad_macc  min_macc  \\\n",
       "853       663.979647      478.818374      956.446390  0.017800  9.126425   \n",
       "2470    25947.808736    18686.411029    37605.332780  0.009800  9.624984   \n",
       "506      4569.266788     3076.435502     6166.646767  1.404407  6.839887   \n",
       "2255     5081.327830     3347.761312     6752.391173  0.275047  1.642862   \n",
       "2829     1301.559871      864.966609     1777.955788  0.054472  9.627217   \n",
       "\n",
       "       max_macc     em_macc   sma_macc        label  \n",
       "853    9.317504   85.550563   9.249317  laying_down  \n",
       "2470   9.717329   93.458765   9.667395  laying_down  \n",
       "506   18.038666  121.995489  10.832138      walking  \n",
       "2255  15.477629   96.556101   9.758634      sitting  \n",
       "2829  10.603044  101.129052  10.055586      sitting  "
      ]
     },
     "execution_count": 12,
     "metadata": {},
     "output_type": "execute_result"
    }
   ],
   "source": [
    "hist_activities(training_set_df)\n",
    "#plot_act_signals(in_df_ac)\n",
    "training_set_df.to_csv(\"train_feat12.csv\")\n",
    "#training_set_df = pd.read_csv(\"train_feat12.csv\", sep=',', header=None)\n",
    "\n",
    "training_set_df = clean_dataset(training_set_df)\n",
    "\n",
    "combined_training_df = training_set_df\n",
    "combined_training_df = combined_training_df.iloc[np.random.permutation(len(combined_training_df))]\n",
    "combined_training_df.head()"
   ]
  },
  {
   "cell_type": "code",
   "execution_count": 13,
   "metadata": {
    "collapsed": true
   },
   "outputs": [],
   "source": [
    "fileobj = open(\"combineddf\",'wb') \n",
    "pickle.dump(combined_training_df, fileobj)\n",
    "fileobj.close()\n"
   ]
  },
  {
   "cell_type": "code",
   "execution_count": null,
   "metadata": {
    "collapsed": true
   },
   "outputs": [],
   "source": [
    "f = open(\"combineddf\", 'r')\n",
    "combined_training_df = pickle.load(f)\n",
    "f.close()"
   ]
  },
  {
   "cell_type": "code",
   "execution_count": 14,
   "metadata": {},
   "outputs": [
    {
     "name": "stdout",
     "output_type": "stream",
     "text": [
      "(3959, 12)\n",
      "3959\n",
      "['laying_down' 'laying_down' 'walking' ..., 'standing' 'standing'\n",
      " 'laying_down']\n",
      "(3959L,)\n",
      "3959\n"
     ]
    },
    {
     "name": "stderr",
     "output_type": "stream",
     "text": [
      "C:\\ProgramData\\Anaconda2\\lib\\site-packages\\sklearn\\utils\\validation.py:444: DataConversionWarning: Data with input dtype object was converted to float64 by StandardScaler.\n",
      "  warnings.warn(msg, DataConversionWarning)\n"
     ]
    },
    {
     "data": {
      "text/plain": [
       "[0, 0, 2, 1, 1]"
      ]
     },
     "execution_count": 14,
     "metadata": {},
     "output_type": "execute_result"
    }
   ],
   "source": [
    "## Training set\n",
    "\n",
    "training_data = combined_training_df[facc_jmag_cols+ maccj_cols+ macc_cols].as_matrix()\n",
    "training_targets = training_data[:, -1]\n",
    "training_data = training_data[:, :-1]\n",
    "\n",
    "std_scale = preprocessing.StandardScaler().fit(training_data)\n",
    "training_data_std = std_scale.transform(training_data)\n",
    "\n",
    "print(len(training_data_std), len(training_data_std[0]))\n",
    "print(len(training_targets))\n",
    "\n",
    "cache = {'laying_down' : 0, 'sitting' : 1, 'walking' : 2, 'standing' : 3}\n",
    "training_targets.reshape(len(training_targets))\n",
    "print(training_targets)\n",
    "print(training_targets.shape)\n",
    "\n",
    "training_bin_targets = []\n",
    "for i in training_targets:\n",
    "    training_bin_targets.append(cache[i])\n",
    "print(len(training_bin_targets))\n",
    "\n",
    "training_bin_targets[: 5]"
   ]
  },
  {
   "cell_type": "code",
   "execution_count": 15,
   "metadata": {
    "scrolled": true
   },
   "outputs": [
    {
     "name": "stdout",
     "output_type": "stream",
     "text": [
      "processing acceleration: Test1\\14442D53F81BFEA_Mon_Mar_05_21-54_2018_PST\\data\\1_android.sensor.accelerometer.data.csv.gz\n",
      "processing acceleration: Test1\\14442D53F81BFEA_Mon_Mar_05_22-01_2018_PST\\data\\1_android.sensor.accelerometer.data.csv.gz\n",
      "processing acceleration: Test1\\14442D53F81BFEA_Mon_Mar_05_22-06_2018_PST\\data\\1_android.sensor.accelerometer.data.csv.gz\n",
      "processing acceleration: Test1\\14442D53F81BFEA_Mon_Mar_05_22-14_2018_PST\\data\\1_android.sensor.accelerometer.data.csv.gz\n",
      "(246, 13)\n"
     ]
    }
   ],
   "source": [
    "## Testing set\n",
    "testing_set_df = process_csv_data('Test/')"
   ]
  },
  {
   "cell_type": "code",
   "execution_count": 16,
   "metadata": {},
   "outputs": [
    {
     "data": {
      "image/png": "[encoded data removed]",
      "text/plain": [
       "<matplotlib.figure.Figure at 0xf04db70>"
      ]
     },
     "metadata": {},
     "output_type": "display_data"
    },
    {
     "name": "stdout",
     "output_type": "stream",
     "text": [
      "   mad_macc_jerk  min_macc_jerk  iqr_macc_jerk  sma_macc_jerk  std_mfacc_jerk  \\\n",
      "0       6.486658       0.497670      36.551227      37.555970    10359.834832   \n",
      "1      30.078538       0.482442      75.531202      70.526370    10354.024571   \n",
      "2      23.799503       0.482442      56.511297      64.561295    12195.405454   \n",
      "3      14.612629       0.613749      36.838603      33.306843    12219.383768   \n",
      "4       5.031943       0.524822      13.060006      18.466302    12315.352013   \n",
      "\n",
      "   mad_mfacc_jerk  iqr_mfacc_jerk  mad_macc  min_macc   max_macc     em_macc  \\\n",
      "0     7164.478061    14437.441429  0.150934  4.664813  17.564620  101.415949   \n",
      "1     6984.974209    14018.530783  0.526478  4.564220  19.553360  104.117344   \n",
      "2     8281.999556    16924.103055  0.367884  4.564220  19.553360  101.049449   \n",
      "3     8299.069413    16534.115459  0.159578  5.899200  12.998641   99.232530   \n",
      "4     8786.140902    17348.383306  0.062758  6.920704  16.499057   99.736771   \n",
      "\n",
      "    sma_macc    label  \n",
      "0   9.987768  sitting  \n",
      "1  10.058577  sitting  \n",
      "2   9.967217  sitting  \n",
      "3   9.940171  sitting  \n",
      "4   9.974960  sitting  \n"
     ]
    }
   ],
   "source": [
    "hist_activities(testing_set_df)\n",
    "# plot_act_signals(in_df_ac)\n",
    "testing_set_df.to_csv(\"test_feat12.csv\")\n",
    "#testing_set_df = pd.read_csv(\"test_feat12.csv\", sep=',', header=None)\n",
    "\n",
    "testing_set_df = clean_dataset(testing_set_df)\n",
    "\n",
    "combined_testing_df = testing_set_df\n",
    "combined_testing_df = combined_testing_df.iloc[np.random.permutation(len(combined_testing_df))]\n",
    "print testing_set_df.head()"
   ]
  },
  {
   "cell_type": "code",
   "execution_count": 17,
   "metadata": {},
   "outputs": [
    {
     "name": "stdout",
     "output_type": "stream",
     "text": [
      "(246, 12)\n",
      "246\n",
      "(246L,)\n",
      "246\n"
     ]
    },
    {
     "data": {
      "text/plain": [
       "[3, 2, 0, 1, 1]"
      ]
     },
     "execution_count": 17,
     "metadata": {},
     "output_type": "execute_result"
    }
   ],
   "source": [
    "testing_data = combined_testing_df[facc_jmag_cols+ maccj_cols+ macc_cols].as_matrix()\n",
    "testing_targets = testing_data[:, -1]\n",
    "testing_data = testing_data[:, :-1]\n",
    "\n",
    "std_scale = preprocessing.StandardScaler().fit(testing_data)\n",
    "testing_data_std = std_scale.transform(testing_data)\n",
    "\n",
    "print(len(testing_data_std), len(testing_data_std[0]))\n",
    "print(len(testing_targets))\n",
    "\n",
    "cache = {'laying_down' : 0, 'sitting' : 1, 'walking' : 2, 'standing' : 3}\n",
    "testing_targets.reshape(len(testing_targets))\n",
    "print(testing_targets.shape)\n",
    "\n",
    "testing_bin_targets = []\n",
    "for i in testing_targets:\n",
    "    testing_bin_targets.append(cache[i])\n",
    "print(len(testing_bin_targets))\n",
    "\n",
    "testing_bin_targets[: 5]"
   ]
  },
  {
   "cell_type": "code",
   "execution_count": 18,
   "metadata": {
    "collapsed": true
   },
   "outputs": [],
   "source": [
    "fileobj = open(\"combinedtestdf\",'wb') \n",
    "pickle.dump(combined_testing_df, fileobj)\n",
    "fileobj.close()\n"
   ]
  },
  {
   "cell_type": "code",
   "execution_count": null,
   "metadata": {
    "collapsed": true
   },
   "outputs": [],
   "source": [
    "f = open(\"combinedtestdf\", 'r')\n",
    "combined_testing_df = pickle.load(f)\n",
    "f.close()"
   ]
  },
  {
   "cell_type": "code",
   "execution_count": 50,
   "metadata": {
    "collapsed": true
   },
   "outputs": [],
   "source": [
    "#model = DecisionTreeClassifier(random_state=0)\n",
    "model = RandomForestClassifier(random_state = 42)\n",
    "#model = SVC()\n",
    "#model = KNeighborsClassifier()\n",
    "#model = GaussianNB()\n",
    "#model = LogisticRegression()\n",
    "#model = MLPClassifier()\n",
    "\n",
    "# Training the model\n",
    "model.fit(training_data, training_bin_targets)\n",
    "\n",
    "# Testing on the testing data\n",
    "predicted_values = model.predict(testing_data)"
   ]
  },
  {
   "cell_type": "code",
   "execution_count": 51,
   "metadata": {},
   "outputs": [
    {
     "name": "stdout",
     "output_type": "stream",
     "text": [
      "[ 0.77777778  0.84615385  0.92        0.96        0.6         0.91666667\n",
      "  0.875       0.70833333  0.82608696  0.86956522]\n",
      "0.829958379784\n"
     ]
    }
   ],
   "source": [
    "cvscore = cross_val_score(model, testing_data, testing_bin_targets, cv=10)\n",
    "print(cvscore)\n",
    "print(np.mean(cvscore))"
   ]
  },
  {
   "cell_type": "code",
   "execution_count": 52,
   "metadata": {},
   "outputs": [
    {
     "name": "stdout",
     "output_type": "stream",
     "text": [
      "('Score: ', 0.58130081300813008)\n"
     ]
    }
   ],
   "source": [
    "acc_score = accuracy_score(testing_bin_targets, predicted_values)\n",
    "print(\"Score: \", acc_score)"
   ]
  },
  {
   "cell_type": "code",
   "execution_count": null,
   "metadata": {
    "collapsed": true
   },
   "outputs": [],
   "source": []
  }
 ],
 "metadata": {
  "celltoolbar": "Raw Cell Format",
  "kernelspec": {
   "display_name": "Python 2",
   "language": "python",
   "name": "python2"
  },
  "language_info": {
   "codemirror_mode": {
    "name": "ipython",
    "version": 2
   },
   "file_extension": ".py",
   "mimetype": "text/x-python",
   "name": "python",
   "nbconvert_exporter": "python",
   "pygments_lexer": "ipython2",
   "version": "2.7.13"
  }
 },
 "nbformat": 4,
 "nbformat_minor": 2
}
